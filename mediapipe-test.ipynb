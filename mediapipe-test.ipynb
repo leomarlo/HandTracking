{
 "cells": [
  {
   "cell_type": "markdown",
   "metadata": {},
   "source": [
    "# MediaPipe Test\n"
   ]
  },
  {
   "cell_type": "code",
   "execution_count": 1,
   "metadata": {},
   "outputs": [],
   "source": [
    "import cv2\n",
    "import mediapipe as mp\n",
    "from matplotlib import pyplot as plt\n",
    "mp_drawing = mp.solutions.drawing_utils\n",
    "mp_drawing_styles = mp.solutions.drawing_styles\n",
    "mp_hands = mp.solutions.hands"
   ]
  },
  {
   "cell_type": "code",
   "execution_count": 1,
   "metadata": {},
   "outputs": [],
   "source": [
    "\n",
    "# # For static images:\n",
    "# IMAGE_FILES = []\n",
    "# with mp_hands.Hands(\n",
    "#     static_image_mode=True,\n",
    "#     max_num_hands=2,\n",
    "#     min_detection_confidence=0.5) as hands:\n",
    "#   for idx, file in enumerate(IMAGE_FILES):\n",
    "#     # Read an image, flip it around y-axis for correct handedness output (see\n",
    "#     # above).\n",
    "#     image = cv2.flip(cv2.imread(file), 1)\n",
    "#     # Convert the BGR image to RGB before processing.\n",
    "#     results = hands.process(cv2.cvtColor(image, cv2.COLOR_BGR2RGB))\n",
    "\n",
    "#     # Print handedness and draw hand landmarks on the image.\n",
    "#     print('Handedness:', results.multi_handedness)\n",
    "#     if not results.multi_hand_landmarks:\n",
    "#       continue\n",
    "#     image_height, image_width, _ = image.shape\n",
    "#     annotated_image = image.copy()\n",
    "#     for hand_landmarks in results.multi_hand_landmarks:\n",
    "#       print('hand_landmarks:', hand_landmarks)\n",
    "#       print(\n",
    "#           f'Index finger tip coordinates: (',\n",
    "#           f'{hand_landmarks.landmark[mp_hands.HandLandmark.INDEX_FINGER_TIP].x * image_width}, '\n",
    "#           f'{hand_landmarks.landmark[mp_hands.HandLandmark.INDEX_FINGER_TIP].y * image_height})'\n",
    "#       )\n",
    "#       mp_drawing.draw_landmarks(\n",
    "#           annotated_image,\n",
    "#           hand_landmarks,\n",
    "#           mp_hands.HAND_CONNECTIONS,\n",
    "#           mp_drawing_styles.get_default_hand_landmarks_style(),\n",
    "#           mp_drawing_styles.get_default_hand_connections_style())\n",
    "#     cv2.imwrite(\n",
    "#         './annotated_image' + str(idx) + '.png', cv2.flip(annotated_image, 1))\n",
    "#     # Draw hand world landmarks.\n",
    "#     if not results.multi_hand_world_landmarks:\n",
    "#       continue\n",
    "#     for hand_world_landmarks in results.multi_hand_world_landmarks:\n",
    "#       mp_drawing.plot_landmarks(\n",
    "#         hand_world_landmarks, mp_hands.HAND_CONNECTIONS, azimuth=5)\n",
    "\n",
    "# # For webcam input:\n",
    "# cap = cv2.VideoCapture(0)\n",
    "# with mp_hands.Hands(\n",
    "#     model_complexity=0,\n",
    "#     min_detection_confidence=0.5,\n",
    "#     min_tracking_confidence=0.5) as hands:\n",
    "#   while cap.isOpened():\n",
    "#     success, image = cap.read()\n",
    "#     if not success:\n",
    "#       print(\"Ignoring empty camera frame.\")\n",
    "#       # If loading a video, use 'break' instead of 'continue'.\n",
    "#       continue\n",
    "\n",
    "#     # To improve performance, optionally mark the image as not writeable to\n",
    "#     # pass by reference.\n",
    "#     image.flags.writeable = False\n",
    "#     image = cv2.cvtColor(image, cv2.COLOR_BGR2RGB)\n",
    "#     results = hands.process(image)\n",
    "\n",
    "#     # Draw the hand annotations on the image.\n",
    "#     image.flags.writeable = True\n",
    "#     image = cv2.cvtColor(image, cv2.COLOR_RGB2BGR)\n",
    "#     if results.multi_hand_landmarks:\n",
    "#       for hand_landmarks in results.multi_hand_landmarks:\n",
    "#         mp_drawing.draw_landmarks(\n",
    "#             image,\n",
    "#             hand_landmarks,\n",
    "#             mp_hands.HAND_CONNECTIONS,\n",
    "#             mp_drawing_styles.get_default_hand_landmarks_style(),\n",
    "#             mp_drawing_styles.get_default_hand_connections_style())\n",
    "#     # Flip the image horizontally for a selfie-view display.\n",
    "#     cv2.imshow('MediaPipe Hands', cv2.flip(image, 1))\n",
    "#     if cv2.waitKey(5) & 0xFF == 27:\n",
    "#       break\n",
    "# cap.release()"
   ]
  },
  {
   "cell_type": "code",
   "execution_count": 2,
   "metadata": {},
   "outputs": [],
   "source": [
    "# index = 27\n",
    "# image = images[index]\n",
    "# image.flags.writeable = False\n",
    "# image = cv2.cvtColor(image, cv2.COLOR_BGR2RGB)\n"
   ]
  },
  {
   "cell_type": "code",
   "execution_count": 3,
   "metadata": {},
   "outputs": [],
   "source": [
    "# fig, ax = plt.subplots(nrows=2,ncols=1)\n",
    "# ax[0].imshow(image)\n",
    "# ax[1].imshow(images[27])\n",
    "# # plt.show()"
   ]
  },
  {
   "cell_type": "code",
   "execution_count": null,
   "metadata": {},
   "outputs": [],
   "source": [
    "cap = cv2.VideoCapture('./videos/one_hand_close1.mp4')\n",
    "with mp_hands.Hands(\n",
    "    model_complexity=0,\n",
    "    min_detection_confidence=0.5,\n",
    "    min_tracking_confidence=0.5) as hands:\n",
    "  while cap.isOpened():\n",
    "    success, image = cap.read()\n",
    "    if not success:\n",
    "      print(\"Ignoring empty camera frame.\")\n",
    "      # If loading a video, use 'break' instead of 'continue'.\n",
    "      continue\n",
    "\n",
    "    # To improve performance, optionally mark the image as not writeable to\n",
    "    # pass by reference.\n",
    "    image.flags.writeable = False\n",
    "    image = cv2.cvtColor(image, cv2.COLOR_BGR2RGB)\n",
    "    results = hands.process(image)\n",
    "\n",
    "    # Draw the hand annotations on the image.\n",
    "    image.flags.writeable = True\n",
    "    image = cv2.cvtColor(image, cv2.COLOR_RGB2BGR)\n",
    "    if results.multi_hand_landmarks:\n",
    "      for hand_landmarks in results.multi_hand_landmarks:\n",
    "        mp_drawing.draw_landmarks(\n",
    "            image,\n",
    "            hand_landmarks,\n",
    "            mp_hands.HAND_CONNECTIONS,\n",
    "            mp_drawing_styles.get_default_hand_landmarks_style(),\n",
    "            mp_drawing_styles.get_default_hand_connections_style())\n",
    "    # Flip the image horizontally for a selfie-view display.\n",
    "    cv2.imshow('MediaPipe Hands', cv2.flip(image, 1))\n",
    "    if cv2.waitKey(5) & 0xFF == 27:\n",
    "      break\n",
    "cap.release()"
   ]
  },
  {
   "cell_type": "code",
   "execution_count": 2,
   "metadata": {},
   "outputs": [],
   "source": [
    "from copy import deepcopy"
   ]
  },
  {
   "cell_type": "code",
   "execution_count": 7,
   "metadata": {},
   "outputs": [],
   "source": [
    "cap = cv2.VideoCapture('./videos/one_hand_close1.mp4')\n",
    "hands = mp_hands.Hands(\n",
    "    model_complexity=0,\n",
    "    min_detection_confidence=0.5,\n",
    "    min_tracking_confidence=0.5)\n",
    "i = 0\n",
    "manyresults = []\n",
    "while cap.isOpened():\n",
    "    i += 1\n",
    "    success, image = cap.read()\n",
    "    if not success:\n",
    "      print(\"Ignoring empty camera frame.\")\n",
    "      # If loading a video, use 'break' instead of 'continue'.\n",
    "      continue\n",
    "\n",
    "    # To improve performance, optionally mark the image as not writeable to\n",
    "    # pass by reference.\n",
    "    image.flags.writeable = False\n",
    "    image = cv2.cvtColor(image, cv2.COLOR_BGR2RGB)\n",
    "    results = hands.process(image)\n",
    "    manyresults.append(deepcopy(results))\n",
    "    # Draw the hand annotations on the image.\n",
    "    # image.flags.writeable = True\n",
    "    # image = cv2.cvtColor(image, cv2.COLOR_RGB2BGR)\n",
    "    # if results.multi_hand_landmarks:\n",
    "    #   for hand_landmarks in results.multi_hand_landmarks:\n",
    "    #     mp_drawing.draw_landmarks(\n",
    "    #         image,\n",
    "    #         hand_landmarks,\n",
    "    #         mp_hands.HAND_CONNECTIONS,\n",
    "    #         mp_drawing_styles.get_default_hand_landmarks_style(),\n",
    "    #         mp_drawing_styles.get_default_hand_connections_style())\n",
    "    # Flip the image horizontally for a selfie-view display.\n",
    "    # cv2.imshow('MediaPipe Hands', cv2.flip(image, 1))\n",
    "    # if cv2.waitKey(5) & 0xFF == 27:\n",
    "    #   break\n",
    "    if (i==30):\n",
    "      break\n",
    "cap.release()"
   ]
  },
  {
   "cell_type": "code",
   "execution_count": 9,
   "metadata": {},
   "outputs": [],
   "source": [
    "landmarks = manyresults[29].multi_hand_landmarks"
   ]
  },
  {
   "cell_type": "code",
   "execution_count": 10,
   "metadata": {},
   "outputs": [
    {
     "data": {
      "text/plain": [
       "1"
      ]
     },
     "execution_count": 10,
     "metadata": {},
     "output_type": "execute_result"
    }
   ],
   "source": [
    "len(landmarks)"
   ]
  },
  {
   "cell_type": "code",
   "execution_count": 17,
   "metadata": {},
   "outputs": [],
   "source": [
    "landmark = landmarks[0]"
   ]
  },
  {
   "cell_type": "code",
   "execution_count": 26,
   "metadata": {},
   "outputs": [],
   "source": [
    "lm = list(landmark.landmark)"
   ]
  },
  {
   "cell_type": "code",
   "execution_count": 32,
   "metadata": {},
   "outputs": [
    {
     "data": {
      "text/plain": [
       "(0.3528488278388977, 0.6388500928878784)"
      ]
     },
     "execution_count": 32,
     "metadata": {},
     "output_type": "execute_result"
    }
   ],
   "source": [
    "lm[0].x, lm[0].y"
   ]
  }
 ],
 "metadata": {
  "interpreter": {
   "hash": "320c4107c0dbb9e71615eca1ee67b6ec9e38b621fa064415a640611f2578fd75"
  },
  "kernelspec": {
   "display_name": "Python 3.8.10 ('.venv': venv)",
   "language": "python",
   "name": "python3"
  },
  "language_info": {
   "codemirror_mode": {
    "name": "ipython",
    "version": 3
   },
   "file_extension": ".py",
   "mimetype": "text/x-python",
   "name": "python",
   "nbconvert_exporter": "python",
   "pygments_lexer": "ipython3",
   "version": "3.8.10"
  },
  "orig_nbformat": 4
 },
 "nbformat": 4,
 "nbformat_minor": 2
}
